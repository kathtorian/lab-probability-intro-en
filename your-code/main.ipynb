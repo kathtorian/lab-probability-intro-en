{
 "cells": [
  {
   "cell_type": "markdown",
   "metadata": {},
   "source": [
    "# Probability"
   ]
  },
  {
   "cell_type": "markdown",
   "metadata": {},
   "source": [
    "## Challenge 1\n",
    "There is a box with 10 white balls, 12 red balls and 8 black balls. Calculate the probability of:\n",
    "* Taking a white ball out.\n",
    "* Taking a white ball on first extraction and a black ball out on second extraction without replacing the first one.\n",
    "* Taking a white ball on first extraction and a black ball out on second extraction replacing the first one.\n",
    "* Taking 3 balls and them being all different colours."
   ]
  },
  {
   "cell_type": "code",
   "execution_count": 12,
   "metadata": {},
   "outputs": [
    {
     "name": "stdout",
     "output_type": "stream",
     "text": [
      "The probability of taking a white ball out is 0.3333333333333333\n",
      "The probability of taking a white ball on first extraction and a black ball out on second extraction without replacing the first one is 0.09195402298850575\n",
      "The probability of taking a white ball on first extraction and a black ball out on second extraction replacing the first one is 0.08888888888888888\n",
      "The probability of taking 3 balls and them being all different colours is 0.23645320197044334\n"
     ]
    }
   ],
   "source": [
    "white = 10\n",
    "red = 12\n",
    "black = 8\n",
    "total = white+red+black\n",
    "\n",
    "\n",
    "probability1 = white/total\n",
    "print(f\"The probability of taking a white ball out is {probability1}\")\n",
    "\n",
    "probability2 = probability1 * (black/(total-1))\n",
    "print(f\"The probability of taking a white ball on first extraction and a black ball out on second extraction without replacing the first one is {probability2}\")\n",
    "\n",
    "probability3 = probability1 * black/total\n",
    "print(f\"The probability of taking a white ball on first extraction and a black ball out on second extraction replacing the first one is {probability3}\")\n",
    "\n",
    "probability4 = (probability1 * (black/(total-1)) * (red/(total-2)))*6\n",
    "\n",
    "print(f\"The probability of taking 3 balls and them being all different colours is {probability4}\")"
   ]
  },
  {
   "cell_type": "markdown",
   "metadata": {},
   "source": [
    "## Challenge 2\n",
    "\n",
    "You want to go on picnic on Saturday. You hate rain, and would know to plan your weekend. To help you make a decision, you gather the following data about rainy days:\n",
    "\n",
    "* 40% of all days are cloudy.\n",
    "* About 50% of cloudy days are rainy. \n",
    "* About 20% of non-cloudy days are rainy.\n",
    "\n",
    "What is the chance of rain during next Saturday?"
   ]
  },
  {
   "cell_type": "code",
   "execution_count": 16,
   "metadata": {},
   "outputs": [
    {
     "name": "stdout",
     "output_type": "stream",
     "text": [
      "0.32\n"
     ]
    }
   ],
   "source": [
    "cloudy = 0.4\n",
    "rainy = 0.5\n",
    "ncbutrainy = 0.2\n",
    "\n",
    "chanceofrain = (cloudy*rainy) + (ncbutrainy*0.6)\n",
    "print(chanceofrain)"
   ]
  },
  {
   "cell_type": "markdown",
   "metadata": {},
   "source": [
    "## Challenge 3\n",
    "\n",
    "A and B are events of a probability such that $P(A) = 0.3$, $P(B) = 0.6$ and $P(A \\cap B) = 0.1$\n",
    "\n",
    "Which of the following statements are true?  \n",
    "**HINT: draw a big Venn Diagram by your side**  \n",
    "* $P(\\overline{A}) = 0.7$\n",
    "* $P(A \\cup B) = 0.6$\n",
    "* $P(A \\cap \\overline{B}) = 0.2$\n",
    "* $P(A \\cup \\overline{A}) = 1$  \n",
    "* $P(A \\cap (B \\cup \\overline{B})) = 0.4$\n",
    "* $P(\\overline{A} \\cap \\overline{B}) = 0.3$\n",
    "* $P(\\overline{A \\cap B}) = 0.9$"
   ]
  },
  {
   "cell_type": "code",
   "execution_count": 25,
   "metadata": {},
   "outputs": [
    {
     "name": "stdout",
     "output_type": "stream",
     "text": [
      "0.7\n",
      "0.7999999999999999\n",
      "0.19999999999999998\n",
      "1\n",
      "0.3\n",
      "0.20000000000000007\n",
      "0.9\n"
     ]
    }
   ],
   "source": [
    "PA = 0.3\n",
    "PB = 0.6\n",
    "PAandB = 0.1\n",
    "\n",
    "\n",
    "PnotA = 1-PA\n",
    "print(PnotA) #true\n",
    "PnotB = 1-PB \n",
    "\n",
    "PAorB = PA + PB - PAandB \n",
    "print(PAorB) #false\n",
    "PAnotB = PA - PAandB\n",
    "print(PAnotB) #true (periodic number)\n",
    "PAornotA = 1\n",
    "print(PAornotA) #true\n",
    "PAandBornotB = PA\n",
    "print(PAandBornotB) #false\n",
    "PnotAnotB = 1-PAorB\n",
    "print(PnotAnotB)#false\n",
    "PnotAandB = 1 - PAandB \n",
    "print(PnotAandB) #false\n"
   ]
  },
  {
   "cell_type": "markdown",
   "metadata": {},
   "source": [
    "## Challenge 4\n",
    "\n",
    " * If someone flies to China, the probability of getting Covid is 1%  \n",
    " * If someone flies to Italy, the probability of getting Covid is 20%  \n",
    "\n",
    "I roll 1 dice with numbers 1, 2, 3, 4, 5, 6:  \n",
    " * If 1: I fly to Italy\n",
    " * If not 1: I fly to China\n",
    "\n",
    "During my trip, I got Covid. What is the probability that I flew to China?"
   ]
  },
  {
   "cell_type": "code",
   "execution_count": 32,
   "metadata": {},
   "outputs": [
    {
     "name": "stdout",
     "output_type": "stream",
     "text": [
      "The probability you flew to China is 0.2\n"
     ]
    }
   ],
   "source": [
    "china = 0.01\n",
    "italy = 0.20\n",
    "diceitaly = 1/6\n",
    "dicechina = 5/6\n",
    "\n",
    "probabilitychina = (china*dicechina)/(china*dicechina+italy*diceitaly)\n",
    "print(f\"The probability you flew to China is {probabilitychina}\")"
   ]
  },
  {
   "cell_type": "markdown",
   "metadata": {},
   "source": [
    "## BONUS\n",
    "\n",
    "You roll 2 dice. What is the probability that the sum of the numbers is 7? And 8? And 9? Then simulate 10000 times and draw a countplot."
   ]
  },
  {
   "cell_type": "markdown",
   "metadata": {},
   "source": [
    "your explanation here"
   ]
  },
  {
   "cell_type": "code",
   "execution_count": null,
   "metadata": {},
   "outputs": [],
   "source": [
    "# YOUR CODE HERE"
   ]
  }
 ],
 "metadata": {
  "kernelspec": {
   "display_name": "Python 3",
   "language": "python",
   "name": "python3"
  },
  "language_info": {
   "codemirror_mode": {
    "name": "ipython",
    "version": 3
   },
   "file_extension": ".py",
   "mimetype": "text/x-python",
   "name": "python",
   "nbconvert_exporter": "python",
   "pygments_lexer": "ipython3",
   "version": "3.12.2"
  },
  "toc": {
   "base_numbering": 1,
   "nav_menu": {},
   "number_sections": false,
   "sideBar": true,
   "skip_h1_title": false,
   "title_cell": "Table of Contents",
   "title_sidebar": "Contents",
   "toc_cell": false,
   "toc_position": {
    "height": "calc(100% - 180px)",
    "left": "10px",
    "top": "150px",
    "width": "296.475px"
   },
   "toc_section_display": true,
   "toc_window_display": false
  },
  "varInspector": {
   "cols": {
    "lenName": 16,
    "lenType": 16,
    "lenVar": 40
   },
   "kernels_config": {
    "python": {
     "delete_cmd_postfix": "",
     "delete_cmd_prefix": "del ",
     "library": "var_list.py",
     "varRefreshCmd": "print(var_dic_list())"
    },
    "r": {
     "delete_cmd_postfix": ") ",
     "delete_cmd_prefix": "rm(",
     "library": "var_list.r",
     "varRefreshCmd": "cat(var_dic_list()) "
    }
   },
   "types_to_exclude": [
    "module",
    "function",
    "builtin_function_or_method",
    "instance",
    "_Feature"
   ],
   "window_display": false
  }
 },
 "nbformat": 4,
 "nbformat_minor": 2
}
